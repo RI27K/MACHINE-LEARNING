{
  "cells": [
    {
      "cell_type": "markdown",
      "metadata": {
        "id": "view-in-github",
        "colab_type": "text"
      },
      "source": [
        "<a href=\"https://colab.research.google.com/github/RI27K/MACHINE-LEARNING/blob/main/MINI.ipynb\" target=\"_parent\"><img src=\"https://colab.research.google.com/assets/colab-badge.svg\" alt=\"Open In Colab\"/></a>"
      ]
    },
    {
      "cell_type": "code",
      "execution_count": 1,
      "metadata": {
        "id": "rhTp9vaNnztn"
      },
      "outputs": [],
      "source": [
        "import pandas as pd"
      ]
    },
    {
      "cell_type": "code",
      "execution_count": 2,
      "metadata": {
        "id": "ebvlE3FipNvo"
      },
      "outputs": [],
      "source": [
        "data=pd.read_csv(\"/content/REVIEW2.csv\")"
      ]
    },
    {
      "cell_type": "code",
      "execution_count": 3,
      "metadata": {
        "id": "ZZc90baTpq4J"
      },
      "outputs": [],
      "source": [
        "y=data.iloc[:,8]\n",
        "x=data.iloc[:,0:8]"
      ]
    },
    {
      "cell_type": "code",
      "execution_count": 4,
      "metadata": {
        "id": "JvH-yBeSrnT2"
      },
      "outputs": [],
      "source": [
        "# Splitting the dataset into training and test set.\n",
        "from sklearn.model_selection import train_test_split\n",
        "x_train, x_test, y_train, y_test= train_test_split(x, y, test_size= 0.25, random_state=0)"
      ]
    },
    {
      "cell_type": "code",
      "execution_count": 5,
      "metadata": {
        "id": "DCYP_4dqjwLk"
      },
      "outputs": [],
      "source": [
        "from sklearn.preprocessing import StandardScaler\n",
        "\n",
        "scaler = StandardScaler()\n",
        "x_train = scaler.fit_transform(x_train)\n",
        "x_test = scaler.transform(x_test)\n"
      ]
    },
    {
      "cell_type": "code",
      "execution_count": 6,
      "metadata": {
        "id": "saksGNvEsTDd"
      },
      "outputs": [],
      "source": [
        "from sklearn.neighbors import KNeighborsClassifier\n",
        "knn = KNeighborsClassifier(n_neighbors=10)\n",
        "k=knn.fit(x_train, y_train)"
      ]
    },
    {
      "cell_type": "code",
      "execution_count": 7,
      "metadata": {
        "colab": {
          "base_uri": "https://localhost:8080/"
        },
        "id": "VvmAifPCH96-",
        "outputId": "c21bd031-d476-4cf5-f908-3104816e8b03"
      },
      "outputs": [
        {
          "output_type": "stream",
          "name": "stdout",
          "text": [
            "Accuracy: 0.9841269841269841\n"
          ]
        }
      ],
      "source": [
        "from sklearn.ensemble import RandomForestClassifier\n",
        "from sklearn.metrics import accuracy_score\n",
        "x_train, x_test, y_train, y_test = train_test_split(x, y, test_size=0.2, random_state=42)\n",
        "rf_classifier = RandomForestClassifier(n_estimators=100, random_state=42)\n",
        "\n",
        "rf_classifier.fit(x_train, y_train)\n",
        "y_pred = rf_classifier.predict(x_test)\n",
        "\n",
        "accuracy = accuracy_score(y_test, y_pred)\n",
        "print(f\"Accuracy: {accuracy}\")"
      ]
    },
    {
      "cell_type": "code",
      "execution_count": 8,
      "metadata": {
        "id": "yP-DRFmfYePz"
      },
      "outputs": [],
      "source": [
        "import warnings\n",
        "warnings.filterwarnings(\"ignore\", category=UserWarning)\n",
        "warnings.filterwarnings(\"ignore\", category=DeprecationWarning)"
      ]
    },
    {
      "cell_type": "code",
      "execution_count": null,
      "metadata": {
        "id": "KOyQR8AQX_LL"
      },
      "outputs": [],
      "source": [
        "import numpy as np\n",
        "from sklearn.preprocessing import StandardScaler\n",
        "from sklearn.ensemble import RandomForestClassifier\n",
        "from sklearn.model_selection import train_test_split\n",
        "from sklearn.metrics import accuracy_score\n",
        "import joblib\n",
        "\n",
        "x_train, x_test, y_train, y_test = train_test_split(x, y, test_size=0.2, random_state=42)\n",
        "\n",
        "rf_classifier = RandomForestClassifier(n_estimators=100, random_state=42)\n",
        "rf_classifier.fit(x_train, y_train)\n",
        "\n",
        "# Save the trained model\n",
        "joblib.dump(rf_classifier, 'random_forest_model.pkl')\n",
        "\n",
        "def get_user_input():\n",
        "    features = ['snoring range', 'respiration rate', 'body temperature', 'limb movement rate',\n",
        "                'blood oxygen levels', 'eye movement', 'number of hours of sleep', 'heart rate']\n",
        "    user_input = []\n",
        "    for feature in features:\n",
        "        value = float(input(f\"Enter {feature}: \"))\n",
        "        user_input.append(value)\n",
        "    return user_input\n",
        "\n",
        "def preprocess_input(user_input):\n",
        "    scaler = StandardScaler()\n",
        "    user_input = np.array(user_input).reshape(1, -1)\n",
        "    scaled_input = scaler.fit_transform(user_input)\n",
        "    return scaled_input\n",
        "\n",
        "def predict(user_input):\n",
        "    # Load the trained model\n",
        "    rf_classifier = joblib.load('random_forest_model.pkl')\n",
        "    prediction = rf_classifier.predict(user_input)\n",
        "    return prediction\n",
        "\n",
        "def display_results(prediction):\n",
        "    stress_levels_mapping = {\n",
        "        0: 'low/normal',\n",
        "        1: 'medium low',\n",
        "        2: 'medium',\n",
        "        3: 'medium high',\n",
        "        4: 'high'\n",
        "    }\n",
        "    predicted_stress_level = stress_levels_mapping[int(prediction)]\n",
        "    percentage_range = (int(prediction) * 25, (int(prediction) + 1) * 25 - 1)\n",
        "    qualitative_description = {\n",
        "        0: 'low',\n",
        "        1: 'medium',\n",
        "        2: 'medium',\n",
        "        3: 'medium',\n",
        "        4: 'high'\n",
        "    }\n",
        "    print(f\"Predicted Stress Level: {predicted_stress_level} ({percentage_range[0]}% to {percentage_range[1]}%, {qualitative_description[int(prediction)]})\")\n",
        "\n",
        "def main():\n",
        "    user_input = get_user_input()\n",
        "    preprocessed_input = preprocess_input(user_input)\n",
        "    prediction = predict(preprocessed_input)\n",
        "    display_results(prediction)\n",
        "\n",
        "if __name__ == \"__main__\":\n",
        "    main()\n"
      ]
    }
  ],
  "metadata": {
    "colab": {
      "provenance": [],
      "include_colab_link": true
    },
    "kernelspec": {
      "display_name": "Python 3",
      "name": "python3"
    },
    "language_info": {
      "name": "python"
    }
  },
  "nbformat": 4,
  "nbformat_minor": 0
}